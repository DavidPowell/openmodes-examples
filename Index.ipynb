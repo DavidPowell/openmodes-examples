{
 "metadata": {
  "name": "",
  "signature": "sha256:f3bef30cfa4a94741f86fe41f797e1b3d32f3efca7b8b86739ed1cdbe99cacf5"
 },
 "nbformat": 3,
 "nbformat_minor": 0,
 "worksheets": [
  {
   "cells": [
    {
     "cell_type": "markdown",
     "metadata": {},
     "source": [
      "# OpenModes examples\n",
      "\n",
      "Example notebooks for the [OpenModes](http://davidpowell.github.io/OpenModes/) mode\n",
      "solver for open electromagnetic resonators such as metamaterials.\n",
      "\n",
      "These examples are written for the latest version of OpenModes, and may not work with older\n",
      "versions. Please see the [updating instructions](http://openmodes.readthedocs.org/en/latest/install.html#upgrading-to-a-newer-version)\n",
      "in the documentation.\n",
      "\n",
      "## Performing calculations with OpenModes\n",
      "* [Calculating Extinction Cross-Sections](Calculating Extinction.ipynb) - This is the simplest calculation, which shows how a split ring interacts with the incident field, and providing a reference solution for more advanced models.\n",
      "* [Visualising Modes](Visualising Modes.ipynb) - In this example, the modes of a split ring are found, giving their (complex) resonant frequencies, and the currents and charges of the modes.\n",
      "* [Constructing Scalar Models](Constructing Scalar Models.ipynb) - The modes are used to construct simple models, which model the split rings quite accurately over a broad bandwidth.\n",
      "* [Coupling between elements](Coupling between elements.ipynb) - Here the coupling between two split rings is considered, and coupling coefficients are calculated between the modes on different rings.\n",
      "\n",
      "## Understanding the features of OpenModes\n",
      "* [How to create 3D plots](How to create 3D plots.ipynb) - This example shows all the different ways you can view the 3D solution on an element, including interactive in-browser plots\n",
      "* [Using and creating geometric shapes](Using and creating geometric shapes.ipynb) - OpenModes is quite general, working not just with split-rings, but with almost any particle shape. This shows how to use different geometries, and to create your own.\n",
      "\n",
      "## Running the examples\n",
      "\n",
      "If you are viewing this page through the website http://nbviewer.ipython.org, then you can see the results, but cannot run any calculations. To run the examples yourself and play with them, please follow the instructions in the [documentation](http://openmodes.readthedocs.org/en/latest/examples.html#running-examples).\n"
     ]
    }
   ],
   "metadata": {}
  }
 ]
}