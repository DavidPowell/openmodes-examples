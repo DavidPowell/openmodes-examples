{
 "cells": [
  {
   "cell_type": "markdown",
   "metadata": {},
   "source": [
    "# OpenModes examples\n",
    "\n",
    "Example notebooks for the [OpenModes](http://davidpowell.github.io/OpenModes/) mode\n",
    "solver for open electromagnetic resonators such as metamaterials.\n",
    "\n",
    "These examples are written for the latest version of OpenModes, and may not work with older\n",
    "versions. Please see the [updating instructions](http://openmodes.readthedocs.org/en/latest/install.html#upgrading-to-a-newer-version)\n",
    "in the documentation.\n",
    "\n",
    "## Performing calculations with OpenModes\n",
    "These examples deal with the simplest case of metal structures for microwave frequencies which can be approximated as perfect electric conductors (PEC).\n",
    "* [Calculating Extinction Cross-Sections](Calculating Extinction.ipynb) - This is the simplest calculation, which shows how a split ring interacts with the incident field, and providing a reference solution for more advanced models.\n",
    "* [Visualising Modes](Visualising Modes.ipynb) - In this example, the modes of a split ring are found, giving their (complex) resonant frequencies, and the currents and charges of the modes.\n",
    "* [Constructing Scalar Models](Constructing Scalar Models.ipynb) - The modes are used to construct simple models, which model the split rings quite accurately over a broad bandwidth.\n",
    "\n",
    "## Working with dielectric structures\n",
    "* [Dielectric disc](Dielectric disc.ipynb) - Solve the modes of a silicon nano-disk, operating in the optical frequency range. Utilises a surface equivalent problem to represent the fields within objects.\n",
    "\n",
    "## Understanding the features of OpenModes\n",
    "* [How to create 3D plots](How to create 3D plots.ipynb) - This example shows all the different ways you can view the 3D solution on an element, including interactive in-browser plots\n",
    "* [Using and creating geometric shapes](Using and creating geometric shapes.ipynb) - OpenModes is quite general, working not just with split-rings, but with almost any particle shape. This shows how to use different geometries, and to create your own. \n",
    "\n",
    "## Running the examples\n",
    "\n",
    "If you are viewing this page through the website http://nbviewer.ipython.org, then you can see the results, but cannot run any calculations. To run the examples yourself and play with them, please follow the instructions in the [documentation](http://openmodes.readthedocs.org/en/latest/examples.html#running-examples).\n"
   ]
  }
 ],
 "metadata": {
  "kernelspec": {
   "display_name": "Python 3",
   "language": "python",
   "name": "python3"
  },
  "language_info": {
   "codemirror_mode": {
    "name": "ipython",
    "version": 3
   },
   "file_extension": ".py",
   "mimetype": "text/x-python",
   "name": "python",
   "nbconvert_exporter": "python",
   "pygments_lexer": "ipython3",
   "version": "3.5.1"
  }
 },
 "nbformat": 4,
 "nbformat_minor": 0
}
